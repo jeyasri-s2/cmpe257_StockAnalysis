{
 "cells": [
  {
   "cell_type": "code",
   "execution_count": 1,
   "metadata": {},
   "outputs": [],
   "source": [
    "import pandas as pd\n",
    "import matplotlib.pyplot as plt\n",
    "import numpy as np\n",
    "import seaborn as sns\n",
    "from sklearn.model_selection import train_test_split\n",
    "from sklearn.metrics import accuracy_score\n",
    "from sklearn.utils import resample"
   ]
  },
  {
   "cell_type": "code",
   "execution_count": 2,
   "metadata": {},
   "outputs": [
    {
     "data": {
      "text/html": [
       "<div>\n",
       "<style scoped>\n",
       "    .dataframe tbody tr th:only-of-type {\n",
       "        vertical-align: middle;\n",
       "    }\n",
       "\n",
       "    .dataframe tbody tr th {\n",
       "        vertical-align: top;\n",
       "    }\n",
       "\n",
       "    .dataframe thead th {\n",
       "        text-align: right;\n",
       "    }\n",
       "</style>\n",
       "<table border=\"1\" class=\"dataframe\">\n",
       "  <thead>\n",
       "    <tr style=\"text-align: right;\">\n",
       "      <th></th>\n",
       "      <th>Date</th>\n",
       "      <th>Open</th>\n",
       "      <th>High</th>\n",
       "      <th>Low</th>\n",
       "      <th>Close</th>\n",
       "      <th>Volume</th>\n",
       "      <th>OpenInt</th>\n",
       "    </tr>\n",
       "  </thead>\n",
       "  <tbody>\n",
       "    <tr>\n",
       "      <td>4516</td>\n",
       "      <td>2017-11-06</td>\n",
       "      <td>68.22</td>\n",
       "      <td>68.45</td>\n",
       "      <td>68.220</td>\n",
       "      <td>68.22</td>\n",
       "      <td>995731</td>\n",
       "      <td>0</td>\n",
       "    </tr>\n",
       "    <tr>\n",
       "      <td>4517</td>\n",
       "      <td>2017-11-07</td>\n",
       "      <td>68.32</td>\n",
       "      <td>68.64</td>\n",
       "      <td>68.040</td>\n",
       "      <td>68.25</td>\n",
       "      <td>966466</td>\n",
       "      <td>0</td>\n",
       "    </tr>\n",
       "    <tr>\n",
       "      <td>4518</td>\n",
       "      <td>2017-11-08</td>\n",
       "      <td>68.10</td>\n",
       "      <td>68.33</td>\n",
       "      <td>67.771</td>\n",
       "      <td>68.11</td>\n",
       "      <td>972616</td>\n",
       "      <td>0</td>\n",
       "    </tr>\n",
       "    <tr>\n",
       "      <td>4519</td>\n",
       "      <td>2017-11-09</td>\n",
       "      <td>67.92</td>\n",
       "      <td>67.98</td>\n",
       "      <td>66.910</td>\n",
       "      <td>67.47</td>\n",
       "      <td>1673083</td>\n",
       "      <td>0</td>\n",
       "    </tr>\n",
       "    <tr>\n",
       "      <td>4520</td>\n",
       "      <td>2017-11-10</td>\n",
       "      <td>67.35</td>\n",
       "      <td>67.58</td>\n",
       "      <td>66.700</td>\n",
       "      <td>66.81</td>\n",
       "      <td>1704549</td>\n",
       "      <td>0</td>\n",
       "    </tr>\n",
       "  </tbody>\n",
       "</table>\n",
       "</div>"
      ],
      "text/plain": [
       "            Date   Open   High     Low  Close   Volume  OpenInt\n",
       "4516  2017-11-06  68.22  68.45  68.220  68.22   995731        0\n",
       "4517  2017-11-07  68.32  68.64  68.040  68.25   966466        0\n",
       "4518  2017-11-08  68.10  68.33  67.771  68.11   972616        0\n",
       "4519  2017-11-09  67.92  67.98  66.910  67.47  1673083        0\n",
       "4520  2017-11-10  67.35  67.58  66.700  66.81  1704549        0"
      ]
     },
     "execution_count": 2,
     "metadata": {},
     "output_type": "execute_result"
    }
   ],
   "source": [
    "stock_data = pd.read_csv('../Datasets/price-volume-data-for-all-us-stocks-etfs/Data/Stocks/a.us.txt', low_memory =False)\n",
    "stock_data.tail()"
   ]
  }
 ],
 "metadata": {
  "kernelspec": {
   "display_name": "Python 3",
   "language": "python",
   "name": "python3"
  },
  "language_info": {
   "codemirror_mode": {
    "name": "ipython",
    "version": 3
   },
   "file_extension": ".py",
   "mimetype": "text/x-python",
   "name": "python",
   "nbconvert_exporter": "python",
   "pygments_lexer": "ipython3",
   "version": "3.7.4"
  }
 },
 "nbformat": 4,
 "nbformat_minor": 2
}
